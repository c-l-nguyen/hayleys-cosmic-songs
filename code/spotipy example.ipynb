{
 "cells": [
  {
   "cell_type": "code",
   "execution_count": 56,
   "metadata": {},
   "outputs": [
    {
     "name": "stdout",
     "output_type": "stream",
     "text": [
      "'0vFOzaXqZHahrZp6enQwQb'\n"
     ]
    }
   ],
   "source": [
    "import spotipy\n",
    "from spotipy.oauth2 import SpotifyClientCredentials\n",
    "import pprint\n",
    "pp = pprint.PrettyPrinter(indent=1)\n",
    "\n",
    "client_credentials_manager = SpotifyClientCredentials(client_id=\"4ec0a62d437c4ce787a498c11673e555\",\n",
    "                                                      client_secret=\"81db6bb3fcc041aa8e2b06cbc19e9a91\")\n",
    "sp = spotipy.Spotify(client_credentials_manager=client_credentials_manager)\n",
    "query = \"artist:Pink Floyd track:Money\"\n",
    "results = sp.search(q=query, type='track')\n",
    "pp.pprint(results[\"tracks\"][\"items\"][0][\"uri\"].split(\":\")[-1])"
   ]
  },
  {
   "cell_type": "code",
   "execution_count": 60,
   "metadata": {},
   "outputs": [
    {
     "data": {
      "text/plain": [
       "[{'danceability': 0.469,\n",
       "  'energy': 0.537,\n",
       "  'key': 9,\n",
       "  'loudness': -10.421,\n",
       "  'mode': 1,\n",
       "  'speechiness': 0.152,\n",
       "  'acousticness': 0.0241,\n",
       "  'instrumentalness': 0.00201,\n",
       "  'liveness': 0.269,\n",
       "  'valence': 0.783,\n",
       "  'tempo': 124.193,\n",
       "  'type': 'audio_features',\n",
       "  'id': '0vFOzaXqZHahrZp6enQwQb',\n",
       "  'uri': 'spotify:track:0vFOzaXqZHahrZp6enQwQb',\n",
       "  'track_href': 'https://api.spotify.com/v1/tracks/0vFOzaXqZHahrZp6enQwQb',\n",
       "  'analysis_url': 'https://api.spotify.com/v1/audio-analysis/0vFOzaXqZHahrZp6enQwQb',\n",
       "  'duration_ms': 382834,\n",
       "  'time_signature': 1}]"
      ]
     },
     "execution_count": 60,
     "metadata": {},
     "output_type": "execute_result"
    }
   ],
   "source": [
    "sp.audio_features('0vFOzaXqZHahrZp6enQwQb')"
   ]
  },
  {
   "cell_type": "code",
   "execution_count": null,
   "metadata": {},
   "outputs": [],
   "source": []
  }
 ],
 "metadata": {
  "kernelspec": {
   "display_name": "Conda [PythonData]",
   "language": "python",
   "name": "pythondata"
  },
  "language_info": {
   "codemirror_mode": {
    "name": "ipython",
    "version": 3
   },
   "file_extension": ".py",
   "mimetype": "text/x-python",
   "name": "python",
   "nbconvert_exporter": "python",
   "pygments_lexer": "ipython3",
   "version": "3.6.8"
  }
 },
 "nbformat": 4,
 "nbformat_minor": 2
}
